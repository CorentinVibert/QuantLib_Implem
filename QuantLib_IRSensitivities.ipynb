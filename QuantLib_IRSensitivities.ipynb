{
 "cells": [
  {
   "cell_type": "markdown",
   "metadata": {},
   "source": [
    "# Interest-rate sensitivities via zero spread\n",
    "\n",
    "As usual we import the whole module and define a few utilities."
   ]
  },
  {
   "cell_type": "code",
   "execution_count": 1,
   "metadata": {},
   "outputs": [],
   "source": [
    "from QuantLib import *\n",
    "today = Date(8, March, 2016)\n",
    "Settings.instance().evaluationDate = today"
   ]
  },
  {
   "cell_type": "code",
   "execution_count": 13,
   "metadata": {},
   "outputs": [],
   "source": [
    "import matplotlib.pyplot as plt\n",
    "import numpy as np\n",
    "pylab.rcParams['figure.figsize'] = [9, 6]\n",
    "from matplotlib.ticker import FuncFormatter\n",
    "def plot_curves(*curves):\n",
    "    fig, ax = plt.subplots()\n",
    "    ax.yaxis.set_major_formatter(FuncFormatter(lambda r,pos: '%.2g%%' % (r*100)))\n",
    "    ax.set_xlim(0,15)\n",
    "    ax.set_xticks([0,5,10,15])\n",
    "    times = np.linspace(0.0, 15.0, 400)\n",
    "    for curve, style in curves:\n",
    "        rates = [ curve.zeroRate(t, Continuous).rate() for t in times ]\n",
    "        plt.plot(times, rates, style)\n",
    "def plot_curve(curve):\n",
    "    plot_curves((curve, '-'))"
   ]
  },
  {
   "cell_type": "markdown",
   "metadata": {},
   "source": [
    "#### Setup\n",
    "\n",
    "Let's say we have an interest rate cuve, no matter how it was calculated..."
   ]
  },
  {
   "cell_type": "code",
   "execution_count": 4,
   "metadata": {},
   "outputs": [],
   "source": [
    "quotes = [ SimpleQuote(0.312/100) ]\n",
    "helpers = [ DepositRateHelper(QuoteHandle(quotes[0]),\n",
    "                             Period(6, Months), 3,\n",
    "                             TARGET(), Following, False, Actual360()) ]\n",
    "\n",
    "for rate, months_to_start in [(0.293, 1), (0.272, 2), (0.260, 3),\n",
    "                             (0.256, 4), (0.252, 5), (0.248, 6),\n",
    "                             (0.254, 7), (0.261, 8), (0.267, 9),\n",
    "                             (0.279, 10), (0.291, 11), (0.303, 12),\n",
    "                             (0.318, 13), (0.335, 14), (0.352, 15),\n",
    "                             (0.371, 16), (0.389, 17), (0.409, 18)]:\n",
    "    quotes.append(SimpleQuote(rate/100))\n",
    "    helpers.append(FraRateHelper(QuoteHandle(quotes[-1]),\n",
    "                                months_to_start, Euribor6M()))\n",
    "    \n",
    "for rate, tenor in [(0.424, 3), (0.576, 4), (0.762, 5),\n",
    "                             (0.954, 6), (1.135, 7), (1.303, 8),\n",
    "                             (1.452, 9), (1.584, 10), (1.809, 12),\n",
    "                             (2.037, 15), (2.187, 20), (2.234, 25),\n",
    "                             (2.256, 30), (2.295, 35), (2.348, 40),\n",
    "                             (2.421, 50), (2.463, 60)]:\n",
    "    quotes.append(SimpleQuote(rate/100))\n",
    "    helpers.append(SwapRateHelper(QuoteHandle(quotes[-1]),\n",
    "                                Period(tenor, Years), TARGET(),\n",
    "                                  Annual, Unadjusted, Thirty360(Thirty360.BondBasis),\n",
    "                                  Euribor6M())) \n",
    "\n",
    "rate_curve = PiecewiseLogCubicDiscount(2, TARGET(), helpers, Actual365Fixed())\n",
    "curve_handle = RelinkableYieldTermStructureHandle(rate_curve)"
   ]
  },
  {
   "cell_type": "code",
   "execution_count": 14,
   "metadata": {},
   "outputs": [
    {
     "data": {
      "image/png": "[encoded data removed]",
      "text/plain": [
       "<Figure size 648x432 with 1 Axes>"
      ]
     },
     "metadata": {
      "needs_background": "light"
     },
     "output_type": "display_data"
    }
   ],
   "source": [
    "plot_curve(rate_curve)"
   ]
  },
  {
   "cell_type": "markdown",
   "metadata": {},
   "source": [
    "...and we're using it to price an interest rate swap."
   ]
  },
  {
   "cell_type": "code",
   "execution_count": 17,
   "metadata": {},
   "outputs": [],
   "source": [
    "fixed_schedule = Schedule(Date(8, April, 2016), Date(8, April, 2028),\n",
    "                         Period(1, Years), TARGET(), Following, Following,\n",
    "                         DateGeneration.Forward, False)\n",
    "floating_schedule = Schedule(Date(8, April, 2016), Date(8, April, 2028),\n",
    "                            Period(6, Months), TARGET(), Following, Following,\n",
    "                            DateGeneration.Forward, False)\n",
    "index = Euribor6M(curve_handle)\n",
    "swap = VanillaSwap(VanillaSwap.Payer, 10000.0,\n",
    "                  fixed_schedule, 0.02, Thirty360(),\n",
    "                   floating_schedule, index, 0.0, Actual360())"
   ]
  },
  {
   "cell_type": "code",
   "execution_count": 18,
   "metadata": {},
   "outputs": [
    {
     "name": "stdout",
     "output_type": "stream",
     "text": [
      "-189.83267948709386\n"
     ]
    }
   ],
   "source": [
    "swap.setPricingEngine(DiscountingSwapEngine(curve_handle))\n",
    "P0 = swap.NPV()\n",
    "print(P0)"
   ]
  },
  {
   "cell_type": "markdown",
   "metadata": {},
   "source": [
    "Now let's say that you're interest in how the swap price reacts to changes in the underlying rates.\n",
    "\n",
    "#### Interest rate sensitivities\n",
    "\n",
    "If you're interested in the sensitivities of the price of the input rates, you can have them: shift the input rates and relcalculate the NPV."
   ]
  },
  {
   "cell_type": "code",
   "execution_count": 19,
   "metadata": {},
   "outputs": [
    {
     "name": "stdout",
     "output_type": "stream",
     "text": [
      "-190.10699701198928\n"
     ]
    }
   ],
   "source": [
    "bp = 1.0e-4\n",
    "ref = quotes[0].value()\n",
    "quotes[0].setValue(ref+1*bp)\n",
    "print(swap.NPV())\n",
    "quotes[0].setValue(ref)"
   ]
  },
  {
   "cell_type": "code",
   "execution_count": null,
   "metadata": {},
   "outputs": [],
   "source": []
  }
 ],
 "metadata": {
  "kernelspec": {
   "display_name": "Python 3",
   "language": "python",
   "name": "python3"
  },
  "language_info": {
   "codemirror_mode": {
    "name": "ipython",
    "version": 3
   },
   "file_extension": ".py",
   "mimetype": "text/x-python",
   "name": "python",
   "nbconvert_exporter": "python",
   "pygments_lexer": "ipython3",
   "version": "3.7.6"
  }
 },
 "nbformat": 4,
 "nbformat_minor": 4
}
